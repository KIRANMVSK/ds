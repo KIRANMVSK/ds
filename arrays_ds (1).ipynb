{
 "cells": [
  {
   "cell_type": "code",
   "execution_count": 2,
   "id": "f7096bcf-7cf3-4c5c-858a-aaafe924e922",
   "metadata": {},
   "outputs": [
    {
     "name": "stdin",
     "output_type": "stream",
     "text": [
      " enter length of list: 6\n"
     ]
    },
    {
     "name": "stdout",
     "output_type": "stream",
     "text": [
      "taking inputs from user:\n",
      "enter list0:"
     ]
    },
    {
     "name": "stdin",
     "output_type": "stream",
     "text": [
      " 1\n"
     ]
    },
    {
     "name": "stdout",
     "output_type": "stream",
     "text": [
      "enter list1:"
     ]
    },
    {
     "name": "stdin",
     "output_type": "stream",
     "text": [
      " 2\n"
     ]
    },
    {
     "name": "stdout",
     "output_type": "stream",
     "text": [
      "enter list2:"
     ]
    },
    {
     "name": "stdin",
     "output_type": "stream",
     "text": [
      " 4\n"
     ]
    },
    {
     "name": "stdout",
     "output_type": "stream",
     "text": [
      "enter list3:"
     ]
    },
    {
     "name": "stdin",
     "output_type": "stream",
     "text": [
      " 2\n"
     ]
    },
    {
     "name": "stdout",
     "output_type": "stream",
     "text": [
      "enter list4:"
     ]
    },
    {
     "name": "stdin",
     "output_type": "stream",
     "text": [
      " 5\n"
     ]
    },
    {
     "name": "stdout",
     "output_type": "stream",
     "text": [
      "enter list5:"
     ]
    },
    {
     "name": "stdin",
     "output_type": "stream",
     "text": [
      " 9\n"
     ]
    },
    {
     "name": "stdout",
     "output_type": "stream",
     "text": [
      "[1, 2, 4, 2, 5, 9]\n",
      "\n",
      "True is the output\n",
      "duplicates available\n"
     ]
    }
   ],
   "source": [
    "\"\"\"1. Given an array, check if it contains any duplicates or not.\n",
    "arr = [1, 2, 4, 2, 5, 9]\n",
    "Output = True\"\"\"\n",
    "\n",
    "\n",
    "#implementation of array using list\n",
    "\n",
    "#empty list\n",
    "li=[]\n",
    "#taking length of list\n",
    "n=int(input(\" enter length of list:\"))\n",
    "#taking elements from user \n",
    "print(\"taking inputs from user:\")\n",
    "for i in range(n):\n",
    "    print(f\"enter list{i}:\",end='')\n",
    "    a=int(input())\n",
    "    li.append(a)\n",
    "print(li)  \n",
    "\n",
    "#this function checks whether duplicates are available or not \n",
    "#if duplicates found it will returns true\n",
    "#if duplicates not found it will return false\n",
    "def  array_dup(li):\n",
    "    \n",
    "    #outer loop \n",
    "    for i in range(len(li)):\n",
    "        num=li[i]\n",
    "        #by count value we can find whether duplicates are available or not\n",
    "        #intially count=0 if same value of num found in li list value increases\n",
    "        #by logically if count>1 , that means duplicates found\n",
    "        count=0\n",
    "        #inner loop\n",
    "        #inner loop checks whether matching elements found or not\n",
    "        #if matching elements found count will increases value by 1 \n",
    "        \n",
    "        for j in range(len(li)):\n",
    "            if(num==li[j]):\n",
    "                count=count+1\n",
    "                if(count==2):\n",
    "                    #duplicates has found\n",
    "                    #so function will returns True as output\n",
    "                    return True\n",
    "    \n",
    "        \n",
    "    \n",
    "        \n",
    "    #duplicates not found\n",
    "    #so function will returns output as False\n",
    "    return False\n",
    "\n",
    "result=array_dup(li)\n",
    "if result==True:\n",
    "    print()\n",
    "    print(f\"{result} is the output\")\n",
    "    print(\"duplicates available\")\n",
    "    \n",
    "else:\n",
    "    print(f\"{result} is the output\")\n",
    "    print(\"no duplicates available\")\n"
   ]
  },
  {
   "cell_type": "code",
   "execution_count": 3,
   "id": "3be01708-da1d-424e-b878-d85babd4f0f3",
   "metadata": {},
   "outputs": [
    {
     "name": "stdin",
     "output_type": "stream",
     "text": [
      " enter no of steps that array should rotate to right: 3\n"
     ]
    },
    {
     "name": "stdout",
     "output_type": "stream",
     "text": [
      "array before rotation [1, 2, 3, 4, 5, 6, 7]\n",
      " resultant array after right rotation by 3 steps is [5, 6, 7, 1, 2, 3, 4] \n"
     ]
    }
   ],
   "source": [
    "\"\"\"2.Given an array and an integer k, rotate the array to the right by k steps.\n",
    "arr = [1, 2, 3, 4, 5, 6, 7] k = 3\n",
    "Output = [5, 6, 7, 1, 2, 3, 4]\"\"\"\n",
    "\n",
    "\n",
    "#now given array\n",
    "arr=[1,2,3,4,5,6,7]\n",
    "#taking  input from user that how many steps the array should rotate to right \n",
    "k=int(input(\" enter no of steps that array should rotate to right:\"))\n",
    "print(f\"array before rotation {arr}\")\n",
    "#this function will rotate the given array by given k steps\n",
    "#it takes two parameters one is array and another one k \n",
    "def rotate_arr(arr,k):\n",
    "    for i in range(k):\n",
    "        #negative slicing\n",
    "        #-1 gives last element\n",
    "        last_val=arr[-1]\n",
    "        #inner loop helps in copying value of  preceding element \n",
    "        #negative slicing is used\n",
    "        for j in range(-1,-(len(arr)),-1):\n",
    "            arr[j]=arr[j-1]\n",
    "        arr[0]=last_val\n",
    "    return arr\n",
    "result=rotate_arr(arr,k)\n",
    "\n",
    "print(f\" resultant array after right rotation by {k} steps is {result} \")\n",
    "    "
   ]
  },
  {
   "cell_type": "code",
   "execution_count": 10,
   "id": "1bf8efac-91b1-4f48-a744-9cebf7fcce38",
   "metadata": {},
   "outputs": [
    {
     "name": "stdout",
     "output_type": "stream",
     "text": [
      "array before reversing is [2, 4, 5, 7, 9, 12]\n",
      " the reversed array is [12, 2, 4, 5, 7, 9]\n"
     ]
    }
   ],
   "source": [
    "\"\"\"3.reverse the given array in-place, means without using any extra data structure.\n",
    "arr = [2, 4, 5, 7, 9, 12]\n",
    "Output = [12, 9, 7, 5, 4, 2]\"\"\"\n",
    "\n",
    "\n",
    "#given array\n",
    "arr= [2, 4, 5, 7, 9, 12]\n",
    "\n",
    "\n",
    "def rev_arr(arr,l):\n",
    "    i=0\n",
    "    for i in range(0,len(arr),1):\n",
    "        if(i<l+1//2):\n",
    "            #swapping will takes place\n",
    "            #for example first element with last element\n",
    "            temp=arr[i]\n",
    "            arr[i]=arr[l-1]\n",
    "            arr[l-1]=temp\n",
    "           \n",
    "        else:\n",
    "            #if we observe logic if i<l+1//2 is  false then else block executes\n",
    "            #that means we have have already obtained reversed array \n",
    "            #so we are using to terminate loop\n",
    "            \n",
    "           \n",
    "            break\n",
    "        \n",
    "    #lastly reversed array will returns   \n",
    "    return arr\n",
    "\n",
    "print(f\"array before reversing is {arr}\")\n",
    "print(f\" the reversed array is {rev_arr(arr,len(arr))}\")"
   ]
  },
  {
   "cell_type": "code",
   "execution_count": 6,
   "id": "c3a4fc39-9b08-4c60-9858-6ebdd85a6860",
   "metadata": {},
   "outputs": [
    {
     "name": "stdout",
     "output_type": "stream",
     "text": [
      "the array is [10, 5, 20, 8, 15]\n",
      " the maximum element in array is 20 found at index 4\n"
     ]
    }
   ],
   "source": [
    "\"\"\"4.Given an array of integers, find the maximum element in an array\n",
    "arr = [10, 5, 20, 8, 15]\n",
    "Output = 20\"\"\"\n",
    "\n",
    "#given arr [10,5,20,8,15]\n",
    "arr=[10,5,20,8,15]\n",
    "#let intially max element is first element\n",
    "max_ele=arr[0]\n",
    "\n",
    "def max_ele(arr):\n",
    "    #let intially max element is first element    \n",
    "    max_ele=arr[0]\n",
    "    for i in range(len(arr)):\n",
    "        #if any element found that whose value is greater than max_ele then \n",
    "        #that value will copies to max_ele\n",
    "        if(max_ele<arr[i]):\n",
    "            max_ele=arr[i]\n",
    "    #function will returns maximum element and index where it present\n",
    "    return max_ele,i\n",
    "\n",
    "result ,index =max_ele(arr)\n",
    "print(f\"the array is {arr}\")\n",
    "print(f\" the maximum element in array is {result} found at index {index}\")\n",
    "    "
   ]
  },
  {
   "cell_type": "code",
   "execution_count": 7,
   "id": "54c6b661-9f05-4779-b76e-755ee5284d30",
   "metadata": {},
   "outputs": [
    {
     "name": "stdout",
     "output_type": "stream",
     "text": [
      "array before removing duplicates [1, 1, 2, 2, 2, 3, 3, 4, 4, 4, 5, 5]\n",
      "array after removing duplicates [1, 2, 3, 4, 5]\n"
     ]
    }
   ],
   "source": [
    "\"\"\"5. Given a sorted array, remove the duplicate element without using any extra data structure.\n",
    "arr = [1, 1, 2, 2, 2, 3, 3, 4, 4, 4, 5, 5]\n",
    "Output = [1, 2, 3, 4, 5]\"\"\"\n",
    "\n",
    "#array given is [1, 1, 2, 2, 2, 3, 3, 4, 4, 4, 5, 5]\n",
    "\n",
    "arr=[1, 1, 2, 2, 2, 3, 3, 4, 4, 4, 5, 5]\n",
    "\n",
    "#this function will removes the duplicates\n",
    "def remove_dupli(arr,l):\n",
    "    for i in range(len(arr)):\n",
    "        count=0\n",
    "        #this count value helps in finding duplicates intially it is 0\n",
    "        #for duplicate value its value increases by1\n",
    "        #by logically if count==2 that means duplicate is found\n",
    "        #to remove that we have used pop() built in function\n",
    "        #pop(index) \n",
    "        num=arr[i]\n",
    "        for j in range(l):\n",
    "            if(j>=len(arr)):\n",
    "                break\n",
    "            else:\n",
    "                if(num==arr[j]):\n",
    "                    count=count+1\n",
    "                    if(count==2):\n",
    "                        #we are popping element at index j\n",
    "                        arr.pop(j)\n",
    "                        count=count-1\n",
    "                        \n",
    "                        #we are calling again function \n",
    "                        #reason is we need updated array because we have popped element\n",
    "                        #if not we may get list index out of range error\n",
    "                        return remove_dupli(arr,l)\n",
    "\n",
    "        \n",
    "        \n",
    "print(f\"array before removing duplicates {arr}\")      \n",
    "remove_dupli(arr,len(arr))\n",
    "print(f\"array after removing duplicates {arr}\")\n",
    "    "
   ]
  },
  {
   "cell_type": "code",
   "execution_count": null,
   "id": "7b4580f8-dbee-4dfe-97a0-37570a98cb18",
   "metadata": {},
   "outputs": [],
   "source": []
  }
 ],
 "metadata": {
  "kernelspec": {
   "display_name": "Python 3 (ipykernel)",
   "language": "python",
   "name": "python3"
  },
  "language_info": {
   "codemirror_mode": {
    "name": "ipython",
    "version": 3
   },
   "file_extension": ".py",
   "mimetype": "text/x-python",
   "name": "python",
   "nbconvert_exporter": "python",
   "pygments_lexer": "ipython3",
   "version": "3.10.8"
  }
 },
 "nbformat": 4,
 "nbformat_minor": 5
}
